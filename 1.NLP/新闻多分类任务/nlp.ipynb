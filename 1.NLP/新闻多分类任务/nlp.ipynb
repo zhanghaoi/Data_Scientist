{
 "cells": [
  {
   "cell_type": "markdown",
   "id": "f86cf0a3",
   "metadata": {},
   "source": [
    "# 1.竞赛背景"
   ]
  },
  {
   "cell_type": "markdown",
   "id": "b820e923",
   "metadata": {},
   "source": [
    "比赛链接:  https://tianchi.aliyun.com/course/316?spm=a2c22.21852674.0.0.387422e2YzTowM"
   ]
  },
  {
   "cell_type": "markdown",
   "id": "971e8762",
   "metadata": {},
   "source": [
    "## 1.1 思路"
   ]
  },
  {
   "cell_type": "markdown",
   "id": "d04c330c",
   "metadata": {},
   "source": [
    "四个方法进行NLP任务，本质上是一个文本分类任务"
   ]
  },
  {
   "cell_type": "markdown",
   "id": "fa723d3f",
   "metadata": {},
   "source": [
    "* 思路一：TF-IDF +机器学习分类器\n",
    "   直接使用TF-IDF对文本提取特征，并使用分类器进行分类。在分类器的选择上，可以使用SVM、LR、或者XGBoost。\n",
    "* 思路二：FastText\n",
    "  FastText是入门款的词向量，利用Facebook提供的FastText工具，可以快速构建出分类器。\n",
    "* 思路三：Word2Vec+深度学习分类器\n",
    "  WordVec是进阶款的词向量，并通过构建深度学习分类完成分类。深度学习分类的网络结构可以选择TextCNN、TextRNN或者BiLSTM。\n",
    "* 思路四：BERT词向量\n",
    "  Bert是高配款的词向量，具有强大的建模学习能力。"
   ]
  },
  {
   "cell_type": "markdown",
   "id": "7d0567c1",
   "metadata": {},
   "source": [
    "继续编辑test"
   ]
  },
  {
   "cell_type": "markdown",
   "id": "1642e06b",
   "metadata": {},
   "source": [
    "Aaa"
   ]
  },
  {
   "cell_type": "code",
   "execution_count": null,
   "id": "895d0942",
   "metadata": {},
   "outputs": [],
   "source": []
  }
 ],
 "metadata": {
  "kernelspec": {
   "display_name": "pytorch-1.10-cpu",
   "language": "python",
   "name": "python3"
  },
  "language_info": {
   "codemirror_mode": {
    "name": "ipython",
    "version": 3
   },
   "file_extension": ".py",
   "mimetype": "text/x-python",
   "name": "python",
   "nbconvert_exporter": "python",
   "pygments_lexer": "ipython3",
   "version": "3.10.18"
  }
 },
 "nbformat": 4,
 "nbformat_minor": 5
}
